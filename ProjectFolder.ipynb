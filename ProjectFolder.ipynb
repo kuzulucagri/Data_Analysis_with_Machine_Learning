{
 "cells": [
  {
   "cell_type": "markdown",
   "metadata": {},
   "source": [
    "## Libraries"
   ]
  },
  {
   "cell_type": "code",
   "execution_count": 1,
   "metadata": {},
   "outputs": [],
   "source": [
    "import pandas as pd\n",
    "import numpy as np\n",
    "from sklearn.model_selection import train_test_split\n",
    "from sklearn.linear_model import LinearRegression\n",
    "from xgboost import XGBClassifier\n",
    "from sklearn.tree import DecisionTreeRegressor\n",
    "from sklearn.ensemble import RandomForestRegressor\n",
    "from sklearn.neighbors import KNeighborsRegressor\n",
    "from sklearn.metrics import mean_squared_error, mean_absolute_error\n",
    "import statsmodels.api as sm"
   ]
  },
  {
   "cell_type": "markdown",
   "metadata": {},
   "source": [
    "## Definitions"
   ]
  },
  {
   "cell_type": "code",
   "execution_count": 2,
   "metadata": {},
   "outputs": [],
   "source": [
    "def meanSquared(y_test, yPredict):\n",
    "    meanSquared = mean_squared_error(y_test, yPredict)\n",
    "    print('Mean Squared Result: ', meanSquared)\n",
    "\n",
    "\n",
    "def meanAbsolute(y_test, yPredict):\n",
    "    meanAbsolute = mean_absolute_error(y_test, yPredict)\n",
    "    print('Mean Absolute Result: ', meanAbsolute)"
   ]
  },
  {
   "cell_type": "markdown",
   "metadata": {},
   "source": [
    "## Project importing"
   ]
  },
  {
   "cell_type": "markdown",
   "metadata": {},
   "source": [
    "In my dataset I have 120 rows and 8 columns, in the columns, I have 6 features(x1,x2,x3,x4,x5,x6) for training and testing and have 1 label which is Y and that one is for the result.\n",
    "But the thing that I have only 100 Y result in my dataset as you see in the 5. cell, that is why I have to predict the last 20 Y values with the best machine learning algorithm."
   ]
  },
  {
   "cell_type": "code",
   "execution_count": 3,
   "metadata": {},
   "outputs": [],
   "source": [
    "projectDataset = pd.read_excel('ProjectDataset.xlsx')"
   ]
  },
  {
   "cell_type": "code",
   "execution_count": 4,
   "metadata": {},
   "outputs": [
    {
     "data": {
      "text/html": [
       "<div>\n",
       "<style scoped>\n",
       "    .dataframe tbody tr th:only-of-type {\n",
       "        vertical-align: middle;\n",
       "    }\n",
       "\n",
       "    .dataframe tbody tr th {\n",
       "        vertical-align: top;\n",
       "    }\n",
       "\n",
       "    .dataframe thead th {\n",
       "        text-align: right;\n",
       "    }\n",
       "</style>\n",
       "<table border=\"1\" class=\"dataframe\">\n",
       "  <thead>\n",
       "    <tr style=\"text-align: right;\">\n",
       "      <th></th>\n",
       "      <th>SampleNo</th>\n",
       "      <th>x1</th>\n",
       "      <th>x2</th>\n",
       "      <th>x3</th>\n",
       "      <th>x4</th>\n",
       "      <th>x5</th>\n",
       "      <th>x6</th>\n",
       "      <th>Y</th>\n",
       "    </tr>\n",
       "  </thead>\n",
       "  <tbody>\n",
       "    <tr>\n",
       "      <th>0</th>\n",
       "      <td>1</td>\n",
       "      <td>19</td>\n",
       "      <td>30</td>\n",
       "      <td>9</td>\n",
       "      <td>24</td>\n",
       "      <td>5</td>\n",
       "      <td>2</td>\n",
       "      <td>1415.924</td>\n",
       "    </tr>\n",
       "    <tr>\n",
       "      <th>1</th>\n",
       "      <td>2</td>\n",
       "      <td>33</td>\n",
       "      <td>50</td>\n",
       "      <td>6</td>\n",
       "      <td>53</td>\n",
       "      <td>20</td>\n",
       "      <td>63</td>\n",
       "      <td>-40.440</td>\n",
       "    </tr>\n",
       "    <tr>\n",
       "      <th>2</th>\n",
       "      <td>3</td>\n",
       "      <td>22</td>\n",
       "      <td>49</td>\n",
       "      <td>0</td>\n",
       "      <td>16</td>\n",
       "      <td>-6</td>\n",
       "      <td>53</td>\n",
       "      <td>42.548</td>\n",
       "    </tr>\n",
       "    <tr>\n",
       "      <th>3</th>\n",
       "      <td>4</td>\n",
       "      <td>38</td>\n",
       "      <td>6</td>\n",
       "      <td>22</td>\n",
       "      <td>50</td>\n",
       "      <td>12</td>\n",
       "      <td>70</td>\n",
       "      <td>-23.640</td>\n",
       "    </tr>\n",
       "    <tr>\n",
       "      <th>4</th>\n",
       "      <td>5</td>\n",
       "      <td>11</td>\n",
       "      <td>40</td>\n",
       "      <td>28</td>\n",
       "      <td>-9</td>\n",
       "      <td>-20</td>\n",
       "      <td>98</td>\n",
       "      <td>1233.837</td>\n",
       "    </tr>\n",
       "    <tr>\n",
       "      <th>...</th>\n",
       "      <td>...</td>\n",
       "      <td>...</td>\n",
       "      <td>...</td>\n",
       "      <td>...</td>\n",
       "      <td>...</td>\n",
       "      <td>...</td>\n",
       "      <td>...</td>\n",
       "      <td>...</td>\n",
       "    </tr>\n",
       "    <tr>\n",
       "      <th>115</th>\n",
       "      <td>116</td>\n",
       "      <td>16</td>\n",
       "      <td>27</td>\n",
       "      <td>4</td>\n",
       "      <td>13</td>\n",
       "      <td>-3</td>\n",
       "      <td>59</td>\n",
       "      <td>NaN</td>\n",
       "    </tr>\n",
       "    <tr>\n",
       "      <th>116</th>\n",
       "      <td>117</td>\n",
       "      <td>28</td>\n",
       "      <td>43</td>\n",
       "      <td>3</td>\n",
       "      <td>32</td>\n",
       "      <td>4</td>\n",
       "      <td>47</td>\n",
       "      <td>NaN</td>\n",
       "    </tr>\n",
       "    <tr>\n",
       "      <th>117</th>\n",
       "      <td>118</td>\n",
       "      <td>24</td>\n",
       "      <td>32</td>\n",
       "      <td>7</td>\n",
       "      <td>17</td>\n",
       "      <td>-7</td>\n",
       "      <td>35</td>\n",
       "      <td>NaN</td>\n",
       "    </tr>\n",
       "    <tr>\n",
       "      <th>118</th>\n",
       "      <td>119</td>\n",
       "      <td>14</td>\n",
       "      <td>7</td>\n",
       "      <td>15</td>\n",
       "      <td>0</td>\n",
       "      <td>-14</td>\n",
       "      <td>33</td>\n",
       "      <td>NaN</td>\n",
       "    </tr>\n",
       "    <tr>\n",
       "      <th>119</th>\n",
       "      <td>120</td>\n",
       "      <td>9</td>\n",
       "      <td>27</td>\n",
       "      <td>18</td>\n",
       "      <td>27</td>\n",
       "      <td>18</td>\n",
       "      <td>25</td>\n",
       "      <td>NaN</td>\n",
       "    </tr>\n",
       "  </tbody>\n",
       "</table>\n",
       "<p>120 rows × 8 columns</p>\n",
       "</div>"
      ],
      "text/plain": [
       "     SampleNo  x1  x2  x3  x4  x5  x6         Y\n",
       "0           1  19  30   9  24   5   2  1415.924\n",
       "1           2  33  50   6  53  20  63   -40.440\n",
       "2           3  22  49   0  16  -6  53    42.548\n",
       "3           4  38   6  22  50  12  70   -23.640\n",
       "4           5  11  40  28  -9 -20  98  1233.837\n",
       "..        ...  ..  ..  ..  ..  ..  ..       ...\n",
       "115       116  16  27   4  13  -3  59       NaN\n",
       "116       117  28  43   3  32   4  47       NaN\n",
       "117       118  24  32   7  17  -7  35       NaN\n",
       "118       119  14   7  15   0 -14  33       NaN\n",
       "119       120   9  27  18  27  18  25       NaN\n",
       "\n",
       "[120 rows x 8 columns]"
      ]
     },
     "execution_count": 4,
     "metadata": {},
     "output_type": "execute_result"
    }
   ],
   "source": [
    "projectDataset"
   ]
  },
  {
   "cell_type": "code",
   "execution_count": 5,
   "metadata": {},
   "outputs": [
    {
     "data": {
      "text/html": [
       "<div>\n",
       "<style scoped>\n",
       "    .dataframe tbody tr th:only-of-type {\n",
       "        vertical-align: middle;\n",
       "    }\n",
       "\n",
       "    .dataframe tbody tr th {\n",
       "        vertical-align: top;\n",
       "    }\n",
       "\n",
       "    .dataframe thead th {\n",
       "        text-align: right;\n",
       "    }\n",
       "</style>\n",
       "<table border=\"1\" class=\"dataframe\">\n",
       "  <thead>\n",
       "    <tr style=\"text-align: right;\">\n",
       "      <th></th>\n",
       "      <th>SampleNo</th>\n",
       "      <th>x1</th>\n",
       "      <th>x2</th>\n",
       "      <th>x3</th>\n",
       "      <th>x4</th>\n",
       "      <th>x5</th>\n",
       "      <th>x6</th>\n",
       "      <th>Y</th>\n",
       "    </tr>\n",
       "  </thead>\n",
       "  <tbody>\n",
       "    <tr>\n",
       "      <th>100</th>\n",
       "      <td>101</td>\n",
       "      <td>31</td>\n",
       "      <td>27</td>\n",
       "      <td>16</td>\n",
       "      <td>13</td>\n",
       "      <td>-18</td>\n",
       "      <td>34</td>\n",
       "      <td>NaN</td>\n",
       "    </tr>\n",
       "    <tr>\n",
       "      <th>101</th>\n",
       "      <td>102</td>\n",
       "      <td>39</td>\n",
       "      <td>8</td>\n",
       "      <td>1</td>\n",
       "      <td>23</td>\n",
       "      <td>-16</td>\n",
       "      <td>45</td>\n",
       "      <td>NaN</td>\n",
       "    </tr>\n",
       "    <tr>\n",
       "      <th>102</th>\n",
       "      <td>103</td>\n",
       "      <td>3</td>\n",
       "      <td>10</td>\n",
       "      <td>31</td>\n",
       "      <td>14</td>\n",
       "      <td>11</td>\n",
       "      <td>62</td>\n",
       "      <td>NaN</td>\n",
       "    </tr>\n",
       "    <tr>\n",
       "      <th>103</th>\n",
       "      <td>104</td>\n",
       "      <td>15</td>\n",
       "      <td>47</td>\n",
       "      <td>30</td>\n",
       "      <td>24</td>\n",
       "      <td>9</td>\n",
       "      <td>30</td>\n",
       "      <td>NaN</td>\n",
       "    </tr>\n",
       "    <tr>\n",
       "      <th>104</th>\n",
       "      <td>105</td>\n",
       "      <td>0</td>\n",
       "      <td>9</td>\n",
       "      <td>21</td>\n",
       "      <td>5</td>\n",
       "      <td>5</td>\n",
       "      <td>71</td>\n",
       "      <td>NaN</td>\n",
       "    </tr>\n",
       "    <tr>\n",
       "      <th>105</th>\n",
       "      <td>106</td>\n",
       "      <td>8</td>\n",
       "      <td>5</td>\n",
       "      <td>7</td>\n",
       "      <td>19</td>\n",
       "      <td>11</td>\n",
       "      <td>12</td>\n",
       "      <td>NaN</td>\n",
       "    </tr>\n",
       "    <tr>\n",
       "      <th>106</th>\n",
       "      <td>107</td>\n",
       "      <td>28</td>\n",
       "      <td>32</td>\n",
       "      <td>24</td>\n",
       "      <td>43</td>\n",
       "      <td>15</td>\n",
       "      <td>92</td>\n",
       "      <td>NaN</td>\n",
       "    </tr>\n",
       "    <tr>\n",
       "      <th>107</th>\n",
       "      <td>108</td>\n",
       "      <td>12</td>\n",
       "      <td>31</td>\n",
       "      <td>8</td>\n",
       "      <td>-7</td>\n",
       "      <td>-19</td>\n",
       "      <td>81</td>\n",
       "      <td>NaN</td>\n",
       "    </tr>\n",
       "    <tr>\n",
       "      <th>108</th>\n",
       "      <td>109</td>\n",
       "      <td>20</td>\n",
       "      <td>27</td>\n",
       "      <td>28</td>\n",
       "      <td>31</td>\n",
       "      <td>11</td>\n",
       "      <td>71</td>\n",
       "      <td>NaN</td>\n",
       "    </tr>\n",
       "    <tr>\n",
       "      <th>109</th>\n",
       "      <td>110</td>\n",
       "      <td>1</td>\n",
       "      <td>11</td>\n",
       "      <td>24</td>\n",
       "      <td>3</td>\n",
       "      <td>2</td>\n",
       "      <td>12</td>\n",
       "      <td>NaN</td>\n",
       "    </tr>\n",
       "    <tr>\n",
       "      <th>110</th>\n",
       "      <td>111</td>\n",
       "      <td>29</td>\n",
       "      <td>17</td>\n",
       "      <td>33</td>\n",
       "      <td>37</td>\n",
       "      <td>8</td>\n",
       "      <td>27</td>\n",
       "      <td>NaN</td>\n",
       "    </tr>\n",
       "    <tr>\n",
       "      <th>111</th>\n",
       "      <td>112</td>\n",
       "      <td>38</td>\n",
       "      <td>26</td>\n",
       "      <td>17</td>\n",
       "      <td>33</td>\n",
       "      <td>-5</td>\n",
       "      <td>49</td>\n",
       "      <td>NaN</td>\n",
       "    </tr>\n",
       "    <tr>\n",
       "      <th>112</th>\n",
       "      <td>113</td>\n",
       "      <td>13</td>\n",
       "      <td>10</td>\n",
       "      <td>10</td>\n",
       "      <td>17</td>\n",
       "      <td>4</td>\n",
       "      <td>82</td>\n",
       "      <td>NaN</td>\n",
       "    </tr>\n",
       "    <tr>\n",
       "      <th>113</th>\n",
       "      <td>114</td>\n",
       "      <td>23</td>\n",
       "      <td>37</td>\n",
       "      <td>24</td>\n",
       "      <td>11</td>\n",
       "      <td>-12</td>\n",
       "      <td>0</td>\n",
       "      <td>NaN</td>\n",
       "    </tr>\n",
       "    <tr>\n",
       "      <th>114</th>\n",
       "      <td>115</td>\n",
       "      <td>36</td>\n",
       "      <td>23</td>\n",
       "      <td>30</td>\n",
       "      <td>44</td>\n",
       "      <td>8</td>\n",
       "      <td>88</td>\n",
       "      <td>NaN</td>\n",
       "    </tr>\n",
       "    <tr>\n",
       "      <th>115</th>\n",
       "      <td>116</td>\n",
       "      <td>16</td>\n",
       "      <td>27</td>\n",
       "      <td>4</td>\n",
       "      <td>13</td>\n",
       "      <td>-3</td>\n",
       "      <td>59</td>\n",
       "      <td>NaN</td>\n",
       "    </tr>\n",
       "    <tr>\n",
       "      <th>116</th>\n",
       "      <td>117</td>\n",
       "      <td>28</td>\n",
       "      <td>43</td>\n",
       "      <td>3</td>\n",
       "      <td>32</td>\n",
       "      <td>4</td>\n",
       "      <td>47</td>\n",
       "      <td>NaN</td>\n",
       "    </tr>\n",
       "    <tr>\n",
       "      <th>117</th>\n",
       "      <td>118</td>\n",
       "      <td>24</td>\n",
       "      <td>32</td>\n",
       "      <td>7</td>\n",
       "      <td>17</td>\n",
       "      <td>-7</td>\n",
       "      <td>35</td>\n",
       "      <td>NaN</td>\n",
       "    </tr>\n",
       "    <tr>\n",
       "      <th>118</th>\n",
       "      <td>119</td>\n",
       "      <td>14</td>\n",
       "      <td>7</td>\n",
       "      <td>15</td>\n",
       "      <td>0</td>\n",
       "      <td>-14</td>\n",
       "      <td>33</td>\n",
       "      <td>NaN</td>\n",
       "    </tr>\n",
       "    <tr>\n",
       "      <th>119</th>\n",
       "      <td>120</td>\n",
       "      <td>9</td>\n",
       "      <td>27</td>\n",
       "      <td>18</td>\n",
       "      <td>27</td>\n",
       "      <td>18</td>\n",
       "      <td>25</td>\n",
       "      <td>NaN</td>\n",
       "    </tr>\n",
       "  </tbody>\n",
       "</table>\n",
       "</div>"
      ],
      "text/plain": [
       "     SampleNo  x1  x2  x3  x4  x5  x6   Y\n",
       "100       101  31  27  16  13 -18  34 NaN\n",
       "101       102  39   8   1  23 -16  45 NaN\n",
       "102       103   3  10  31  14  11  62 NaN\n",
       "103       104  15  47  30  24   9  30 NaN\n",
       "104       105   0   9  21   5   5  71 NaN\n",
       "105       106   8   5   7  19  11  12 NaN\n",
       "106       107  28  32  24  43  15  92 NaN\n",
       "107       108  12  31   8  -7 -19  81 NaN\n",
       "108       109  20  27  28  31  11  71 NaN\n",
       "109       110   1  11  24   3   2  12 NaN\n",
       "110       111  29  17  33  37   8  27 NaN\n",
       "111       112  38  26  17  33  -5  49 NaN\n",
       "112       113  13  10  10  17   4  82 NaN\n",
       "113       114  23  37  24  11 -12   0 NaN\n",
       "114       115  36  23  30  44   8  88 NaN\n",
       "115       116  16  27   4  13  -3  59 NaN\n",
       "116       117  28  43   3  32   4  47 NaN\n",
       "117       118  24  32   7  17  -7  35 NaN\n",
       "118       119  14   7  15   0 -14  33 NaN\n",
       "119       120   9  27  18  27  18  25 NaN"
      ]
     },
     "execution_count": 5,
     "metadata": {},
     "output_type": "execute_result"
    }
   ],
   "source": [
    "projectDataset.tail(20)"
   ]
  },
  {
   "cell_type": "markdown",
   "metadata": {},
   "source": [
    "## Preprocessing"
   ]
  },
  {
   "cell_type": "markdown",
   "metadata": {},
   "source": [
    "In here I wanna drop SampleNo column because that column is storing only the index of the rows so it is not important for my goal."
   ]
  },
  {
   "cell_type": "code",
   "execution_count": 6,
   "metadata": {},
   "outputs": [],
   "source": [
    "projectDataset = projectDataset.drop(labels='SampleNo',axis = 1)"
   ]
  },
  {
   "cell_type": "code",
   "execution_count": 7,
   "metadata": {},
   "outputs": [],
   "source": [
    "allXValues = projectDataset[[\"x1\",\"x2\",\"x3\",\"x4\",\"x5\",\"x6\"]].values\n",
    "yValues = projectDataset[\"Y\"].values\n",
    "xValues = allXValues[:99,:]\n",
    "yValues = yValues[:99]\n",
    "last20Values = allXValues[100:,:]"
   ]
  },
  {
   "cell_type": "markdown",
   "metadata": {},
   "source": [
    "## Train and test split"
   ]
  },
  {
   "cell_type": "markdown",
   "metadata": {},
   "source": [
    "So I have declared my datas as xValues and yValues, now on I have to split the datas as x_train,x_test,y_train and y_test"
   ]
  },
  {
   "cell_type": "code",
   "execution_count": 8,
   "metadata": {},
   "outputs": [],
   "source": [
    "x_train,x_test,y_train,y_test = train_test_split(xValues,yValues,test_size = 0.2,random_state = 0)"
   ]
  },
  {
   "cell_type": "markdown",
   "metadata": {},
   "source": [
    "## First machine learning algorithm which is Linear Regression"
   ]
  },
  {
   "cell_type": "code",
   "execution_count": 9,
   "metadata": {},
   "outputs": [
    {
     "name": "stdout",
     "output_type": "stream",
     "text": [
      "Mean Squared Result:  3762761.264479832\n",
      "Mean Absolute Result:  1598.690644938067\n"
     ]
    }
   ],
   "source": [
    "linearRegression = LinearRegression()\n",
    "linearRegressionPredict = linearRegression.fit(x_train,y_train).predict(x_test)\n",
    "\n",
    "meanSquared(y_test,linearRegressionPredict)\n",
    "meanAbsolute(y_test,linearRegressionPredict)"
   ]
  },
  {
   "cell_type": "markdown",
   "metadata": {},
   "source": [
    "## Linear Regression OLS(Ordinary Least Squares) result"
   ]
  },
  {
   "cell_type": "code",
   "execution_count": 10,
   "metadata": {},
   "outputs": [
    {
     "name": "stdout",
     "output_type": "stream",
     "text": [
      "                                 OLS Regression Results                                \n",
      "=======================================================================================\n",
      "Dep. Variable:                      y   R-squared (uncentered):                   0.907\n",
      "Model:                            OLS   Adj. R-squared (uncentered):              0.875\n",
      "Method:                 Least Squares   F-statistic:                              29.12\n",
      "Date:                Mon, 28 Feb 2022   Prob (F-statistic):                    3.24e-07\n",
      "Time:                        23:22:31   Log-Likelihood:                         -156.16\n",
      "No. Observations:                  20   AIC:                                      322.3\n",
      "Df Residuals:                      15   BIC:                                      327.3\n",
      "Df Model:                           5                                                  \n",
      "Covariance Type:            nonrobust                                                  \n",
      "==============================================================================\n",
      "                 coef    std err          t      P>|t|      [0.025      0.975]\n",
      "------------------------------------------------------------------------------\n",
      "x1           117.1621     11.748      9.973      0.000      92.121     142.203\n",
      "x2           -69.7032      8.328     -8.370      0.000     -87.454     -51.953\n",
      "x3            97.2369     13.923      6.984      0.000      67.560     126.914\n",
      "x4             7.9677      9.820      0.811      0.430     -12.963      28.899\n",
      "x5          -109.1944     11.830     -9.231      0.000    -134.408     -83.980\n",
      "x6           -16.9100      5.488     -3.081      0.008     -28.607      -5.213\n",
      "==============================================================================\n",
      "Omnibus:                        0.454   Durbin-Watson:                   2.240\n",
      "Prob(Omnibus):                  0.797   Jarque-Bera (JB):                0.490\n",
      "Skew:                           0.301   Prob(JB):                        0.783\n",
      "Kurtosis:                       2.526   Cond. No.                     1.89e+16\n",
      "==============================================================================\n",
      "\n",
      "Notes:\n",
      "[1] R² is computed without centering (uncentered) since the model does not contain a constant.\n",
      "[2] Standard Errors assume that the covariance matrix of the errors is correctly specified.\n",
      "[3] The smallest eigenvalue is 2.33e-28. This might indicate that there are\n",
      "strong multicollinearity problems or that the design matrix is singular.\n"
     ]
    }
   ],
   "source": [
    "linearRegressionModel = sm.OLS(linearRegressionPredict,x_test)\n",
    "print(linearRegressionModel.fit().summary())"
   ]
  },
  {
   "cell_type": "markdown",
   "metadata": {},
   "source": [
    "## Second machine learning algorithm"
   ]
  },
  {
   "cell_type": "code",
   "execution_count": 11,
   "metadata": {},
   "outputs": [
    {
     "name": "stdout",
     "output_type": "stream",
     "text": [
      "[23:22:31] WARNING: C:/Users/Administrator/workspace/xgboost-win64_release_1.5.1/src/learner.cc:1115: Starting in XGBoost 1.3.0, the default evaluation metric used with the objective 'multi:softprob' was changed from 'merror' to 'mlogloss'. Explicitly set eval_metric if you'd like to restore the old behavior.\n"
     ]
    },
    {
     "name": "stderr",
     "output_type": "stream",
     "text": [
      "C:\\Users\\cagri\\anaconda3\\lib\\site-packages\\xgboost\\sklearn.py:1224: UserWarning: The use of label encoder in XGBClassifier is deprecated and will be removed in a future release. To remove this warning, do the following: 1) Pass option use_label_encoder=False when constructing XGBClassifier object; and 2) Encode your labels (y) as integers starting with 0, i.e. 0, 1, 2, ..., [num_class - 1].\n",
      "  warnings.warn(label_encoder_deprecation_msg, UserWarning)\n"
     ]
    },
    {
     "name": "stdout",
     "output_type": "stream",
     "text": [
      "Mean Squared Result:  462689.43220064987\n",
      "Mean Absolute Result:  314.32104999999996\n"
     ]
    }
   ],
   "source": [
    "gradientBoosted = XGBClassifier()\n",
    "gradientBoostedPredict = gradientBoosted.fit(x_train,y_train).predict(x_test)\n",
    "\n",
    "meanSquared(y_test,gradientBoostedPredict)\n",
    "meanAbsolute(y_test,gradientBoostedPredict)"
   ]
  },
  {
   "cell_type": "markdown",
   "metadata": {},
   "source": [
    "## Gradient Boosted OLS result"
   ]
  },
  {
   "cell_type": "code",
   "execution_count": 12,
   "metadata": {},
   "outputs": [
    {
     "name": "stdout",
     "output_type": "stream",
     "text": [
      "                                 OLS Regression Results                                \n",
      "=======================================================================================\n",
      "Dep. Variable:                      y   R-squared (uncentered):                   0.397\n",
      "Model:                            OLS   Adj. R-squared (uncentered):              0.196\n",
      "Method:                 Least Squares   F-statistic:                              1.974\n",
      "Date:                Mon, 28 Feb 2022   Prob (F-statistic):                       0.141\n",
      "Time:                        23:22:32   Log-Likelihood:                         -135.34\n",
      "No. Observations:                  20   AIC:                                      280.7\n",
      "Df Residuals:                      15   BIC:                                      285.7\n",
      "Df Model:                           5                                                  \n",
      "Covariance Type:            nonrobust                                                  \n",
      "==============================================================================\n",
      "                 coef    std err          t      P>|t|      [0.025      0.975]\n",
      "------------------------------------------------------------------------------\n",
      "x1             1.5550      4.149      0.375      0.713      -7.288      10.398\n",
      "x2             4.6134      2.941      1.569      0.138      -1.655      10.882\n",
      "x3             5.9108      4.917      1.202      0.248      -4.569      16.391\n",
      "x4            -7.1521      3.468     -2.062      0.057     -14.544       0.239\n",
      "x5            -8.7071      4.177     -2.084      0.055     -17.611       0.197\n",
      "x6             1.2080      1.938      0.623      0.542      -2.922       5.339\n",
      "==============================================================================\n",
      "Omnibus:                        2.877   Durbin-Watson:                   2.090\n",
      "Prob(Omnibus):                  0.237   Jarque-Bera (JB):                1.330\n",
      "Skew:                           0.228   Prob(JB):                        0.514\n",
      "Kurtosis:                       1.822   Cond. No.                     1.89e+16\n",
      "==============================================================================\n",
      "\n",
      "Notes:\n",
      "[1] R² is computed without centering (uncentered) since the model does not contain a constant.\n",
      "[2] Standard Errors assume that the covariance matrix of the errors is correctly specified.\n",
      "[3] The smallest eigenvalue is 2.33e-28. This might indicate that there are\n",
      "strong multicollinearity problems or that the design matrix is singular.\n"
     ]
    }
   ],
   "source": [
    "gradientBoostedModel = sm.OLS(gradientBoostedPredict,x_test)\n",
    "print(gradientBoostedModel.fit().summary())"
   ]
  },
  {
   "cell_type": "markdown",
   "metadata": {},
   "source": [
    "## Third machine learning algorithm"
   ]
  },
  {
   "cell_type": "code",
   "execution_count": 13,
   "metadata": {},
   "outputs": [
    {
     "name": "stdout",
     "output_type": "stream",
     "text": [
      "Mean Squared Result:  702268.992579\n",
      "Mean Absolute Result:  520.7939\n"
     ]
    }
   ],
   "source": [
    "decisionTree = DecisionTreeRegressor(random_state=0)\n",
    "decisionTreePredict = decisionTree.fit(x_train,y_train).predict(x_test)\n",
    "\n",
    "meanSquared(y_test,decisionTreePredict)\n",
    "meanAbsolute(y_test,decisionTreePredict)"
   ]
  },
  {
   "cell_type": "markdown",
   "metadata": {},
   "source": [
    "## Decision Tree OLS result"
   ]
  },
  {
   "cell_type": "code",
   "execution_count": 14,
   "metadata": {},
   "outputs": [
    {
     "name": "stdout",
     "output_type": "stream",
     "text": [
      "                                 OLS Regression Results                                \n",
      "=======================================================================================\n",
      "Dep. Variable:                      y   R-squared (uncentered):                   0.865\n",
      "Model:                            OLS   Adj. R-squared (uncentered):              0.820\n",
      "Method:                 Least Squares   F-statistic:                              19.20\n",
      "Date:                Mon, 28 Feb 2022   Prob (F-statistic):                    4.87e-06\n",
      "Time:                        23:22:32   Log-Likelihood:                         -147.44\n",
      "No. Observations:                  20   AIC:                                      304.9\n",
      "Df Residuals:                      15   BIC:                                      309.9\n",
      "Df Model:                           5                                                  \n",
      "Covariance Type:            nonrobust                                                  \n",
      "==============================================================================\n",
      "                 coef    std err          t      P>|t|      [0.025      0.975]\n",
      "------------------------------------------------------------------------------\n",
      "x1            46.1979      7.596      6.082      0.000      30.007      62.389\n",
      "x2             8.5750      5.385      1.593      0.132      -2.902      20.052\n",
      "x3            38.0274      9.002      4.224      0.001      18.839      57.216\n",
      "x4            -8.5956      6.349     -1.354      0.196     -22.129       4.938\n",
      "x5           -54.7935      7.649     -7.164      0.000     -71.096     -38.491\n",
      "x6            -5.6292      3.548     -1.587      0.133     -13.192       1.934\n",
      "==============================================================================\n",
      "Omnibus:                        1.214   Durbin-Watson:                   1.800\n",
      "Prob(Omnibus):                  0.545   Jarque-Bera (JB):                0.950\n",
      "Skew:                           0.500   Prob(JB):                        0.622\n",
      "Kurtosis:                       2.625   Cond. No.                     1.89e+16\n",
      "==============================================================================\n",
      "\n",
      "Notes:\n",
      "[1] R² is computed without centering (uncentered) since the model does not contain a constant.\n",
      "[2] Standard Errors assume that the covariance matrix of the errors is correctly specified.\n",
      "[3] The smallest eigenvalue is 2.33e-28. This might indicate that there are\n",
      "strong multicollinearity problems or that the design matrix is singular.\n"
     ]
    }
   ],
   "source": [
    "decisionTreeModel = sm.OLS(decisionTreePredict,x_test)\n",
    "print(decisionTreeModel.fit().summary())"
   ]
  },
  {
   "cell_type": "markdown",
   "metadata": {},
   "source": [
    "## Fourth machine learning algorithm"
   ]
  },
  {
   "cell_type": "code",
   "execution_count": 15,
   "metadata": {},
   "outputs": [
    {
     "name": "stdout",
     "output_type": "stream",
     "text": [
      "Mean Squared Result:  747506.1538929332\n",
      "Mean Absolute Result:  602.4220274999999\n"
     ]
    }
   ],
   "source": [
    "randomForest = RandomForestRegressor(n_estimators=20,random_state=0)\n",
    "\n",
    "randomForestPredict = randomForest.fit(x_train,y_train).predict(x_test)\n",
    "\n",
    "meanSquared(y_test,randomForestPredict)\n",
    "meanAbsolute(y_test,randomForestPredict)"
   ]
  },
  {
   "cell_type": "markdown",
   "metadata": {},
   "source": [
    "## Random Forest OLS result"
   ]
  },
  {
   "cell_type": "code",
   "execution_count": 16,
   "metadata": {},
   "outputs": [
    {
     "name": "stdout",
     "output_type": "stream",
     "text": [
      "                                 OLS Regression Results                                \n",
      "=======================================================================================\n",
      "Dep. Variable:                      y   R-squared (uncentered):                   0.862\n",
      "Model:                            OLS   Adj. R-squared (uncentered):              0.816\n",
      "Method:                 Least Squares   F-statistic:                              18.71\n",
      "Date:                Mon, 28 Feb 2022   Prob (F-statistic):                    5.73e-06\n",
      "Time:                        23:22:32   Log-Likelihood:                         -148.39\n",
      "No. Observations:                  20   AIC:                                      306.8\n",
      "Df Residuals:                      15   BIC:                                      311.8\n",
      "Df Model:                           5                                                  \n",
      "Covariance Type:            nonrobust                                                  \n",
      "==============================================================================\n",
      "                 coef    std err          t      P>|t|      [0.025      0.975]\n",
      "------------------------------------------------------------------------------\n",
      "x1            40.8127      7.967      5.123      0.000      23.831      57.794\n",
      "x2             6.5016      5.647      1.151      0.268      -5.536      18.539\n",
      "x3            33.6132      9.442      3.560      0.003      13.488      53.738\n",
      "x4           -11.6800      6.659     -1.754      0.100     -25.874       2.514\n",
      "x5           -52.4927      8.022     -6.544      0.000     -69.591     -35.394\n",
      "x6             1.3278      3.721      0.357      0.726      -6.604       9.260\n",
      "==============================================================================\n",
      "Omnibus:                        1.135   Durbin-Watson:                   1.362\n",
      "Prob(Omnibus):                  0.567   Jarque-Bera (JB):                0.764\n",
      "Skew:                           0.464   Prob(JB):                        0.683\n",
      "Kurtosis:                       2.763   Cond. No.                     1.89e+16\n",
      "==============================================================================\n",
      "\n",
      "Notes:\n",
      "[1] R² is computed without centering (uncentered) since the model does not contain a constant.\n",
      "[2] Standard Errors assume that the covariance matrix of the errors is correctly specified.\n",
      "[3] The smallest eigenvalue is 2.33e-28. This might indicate that there are\n",
      "strong multicollinearity problems or that the design matrix is singular.\n"
     ]
    }
   ],
   "source": [
    "randomForestModel = sm.OLS(randomForestPredict,x_test)\n",
    "print(randomForestModel.fit().summary())"
   ]
  },
  {
   "cell_type": "markdown",
   "metadata": {},
   "source": [
    "## Fifth and the last machine learning algorithm"
   ]
  },
  {
   "cell_type": "code",
   "execution_count": 17,
   "metadata": {},
   "outputs": [
    {
     "name": "stdout",
     "output_type": "stream",
     "text": [
      "Mean Squared Result:  1932350.24059084\n",
      "Mean Absolute Result:  1153.9941000000001\n"
     ]
    }
   ],
   "source": [
    "kNeighbors = KNeighborsRegressor()\n",
    "\n",
    "kNeighborsPredict = kNeighbors.fit(x_train,y_train).predict(x_test)\n",
    "\n",
    "meanSquared(y_test,kNeighborsPredict)\n",
    "meanAbsolute(y_test,kNeighborsPredict)"
   ]
  },
  {
   "cell_type": "markdown",
   "metadata": {},
   "source": [
    "## K-Nearest Neighbors OLS result"
   ]
  },
  {
   "cell_type": "code",
   "execution_count": 18,
   "metadata": {},
   "outputs": [
    {
     "name": "stdout",
     "output_type": "stream",
     "text": [
      "                                 OLS Regression Results                                \n",
      "=======================================================================================\n",
      "Dep. Variable:                      y   R-squared (uncentered):                   0.857\n",
      "Model:                            OLS   Adj. R-squared (uncentered):              0.810\n",
      "Method:                 Least Squares   F-statistic:                              18.02\n",
      "Date:                Mon, 28 Feb 2022   Prob (F-statistic):                    7.25e-06\n",
      "Time:                        23:22:32   Log-Likelihood:                         -156.51\n",
      "No. Observations:                  20   AIC:                                      323.0\n",
      "Df Residuals:                      15   BIC:                                      328.0\n",
      "Df Model:                           5                                                  \n",
      "Covariance Type:            nonrobust                                                  \n",
      "==============================================================================\n",
      "                 coef    std err          t      P>|t|      [0.025      0.975]\n",
      "------------------------------------------------------------------------------\n",
      "x1            47.4542     11.957      3.969      0.001      21.968      72.941\n",
      "x2            18.4591      8.476      2.178      0.046       0.393      36.525\n",
      "x3            42.1301     14.171      2.973      0.009      11.925      72.335\n",
      "x4            -6.6769      9.995     -0.668      0.514     -27.980      14.627\n",
      "x5           -54.1311     12.040     -4.496      0.000     -79.794     -28.468\n",
      "x6             0.2321      5.585      0.042      0.967     -11.673      12.137\n",
      "==============================================================================\n",
      "Omnibus:                        2.419   Durbin-Watson:                   2.231\n",
      "Prob(Omnibus):                  0.298   Jarque-Bera (JB):                1.290\n",
      "Skew:                           0.617   Prob(JB):                        0.525\n",
      "Kurtosis:                       3.161   Cond. No.                     1.89e+16\n",
      "==============================================================================\n",
      "\n",
      "Notes:\n",
      "[1] R² is computed without centering (uncentered) since the model does not contain a constant.\n",
      "[2] Standard Errors assume that the covariance matrix of the errors is correctly specified.\n",
      "[3] The smallest eigenvalue is 2.33e-28. This might indicate that there are\n",
      "strong multicollinearity problems or that the design matrix is singular.\n"
     ]
    }
   ],
   "source": [
    "kNeighborsModel = sm.OLS(kNeighborsPredict,x_test)\n",
    "print(kNeighborsModel.fit().summary())"
   ]
  },
  {
   "cell_type": "markdown",
   "metadata": {},
   "source": [
    "## Dictionary name for the algorithms"
   ]
  },
  {
   "cell_type": "code",
   "execution_count": 19,
   "metadata": {},
   "outputs": [],
   "source": [
    "modelResult = dict({\"linearRegression\":linearRegressionModel.fit().rsquared,\"gradientBoosted\":gradientBoostedModel.fit().rsquared,\n",
    "                  \"decisionTree\":decisionTreeModel.fit().rsquared,\"randomForest\":randomForestModel.fit().rsquared,\"kNeighbors\":kNeighborsModel.fit().rsquared})"
   ]
  },
  {
   "cell_type": "markdown",
   "metadata": {},
   "source": [
    "## Definition for Best prediction"
   ]
  },
  {
   "cell_type": "markdown",
   "metadata": {},
   "source": [
    "In here I am using definition for reaching the highest rsquared values of the algorithms and then I am using the predict method for predict the last 20 values in my dataset and then save it to the excel."
   ]
  },
  {
   "cell_type": "code",
   "execution_count": 20,
   "metadata": {},
   "outputs": [],
   "source": [
    "def prediction(modelResult):\n",
    "    modelResult1 = sorted(modelResult.values())\n",
    "    sortedDict = {}\n",
    "\n",
    "    for i in modelResult1:\n",
    "        for k in modelResult.keys():\n",
    "            if modelResult[k] == i:\n",
    "                sortedDict[k] = modelResult[k]\n",
    "                break\n",
    "\n",
    "    print(\"Sorted Values \\n\",sortedDict)\n",
    "\n",
    "    predictModel = max(sortedDict,key = sortedDict.get)\n",
    "\n",
    "    if predictModel == 'linearRegression':\n",
    "        result = linearRegression.predict(last20Values)\n",
    "        print(\"Linear Regression Predict \\n\",linearRegression.predict(last20Values))\n",
    "    elif predictModel == 'gradientBoosted':\n",
    "        result = gradientBoosted.predict(last20Values)\n",
    "        print(\"Gradient Boosted Predict \\n\",gradientBoosted.predict(last20Values))\n",
    "    elif predictModel == 'decisionTree':\n",
    "        result = decisionTree.predict(last20Values)\n",
    "        print(\"Decision Tree Predict \\n\",decisionTree.predict(last20Values))\n",
    "    elif predictModel == 'randomForest':\n",
    "        result = randomForest.predict(last20Values)\n",
    "        print(\"Random Forest Predict \\n\",randomForest.predict(last20Values))\n",
    "    elif predictModel == 'kNeighbors':\n",
    "        result = kNeighbors.predict(last20Values)\n",
    "        print(\"K-Neighbors Predict \\n\",kNeighbors.predict(last20Values))\n",
    "    \n",
    "    excelResult = pd.DataFrame(data=result)\n",
    "    writer = pd.ExcelWriter(\"PredictResult.xlsx\")\n",
    "    excelResult.to_excel(writer)\n",
    "    writer.save()"
   ]
  },
  {
   "cell_type": "code",
   "execution_count": null,
   "metadata": {},
   "outputs": [],
   "source": []
  }
 ],
 "metadata": {
  "kernelspec": {
   "display_name": "Python 3 (ipykernel)",
   "language": "python",
   "name": "python3"
  },
  "language_info": {
   "codemirror_mode": {
    "name": "ipython",
    "version": 3
   },
   "file_extension": ".py",
   "mimetype": "text/x-python",
   "name": "python",
   "nbconvert_exporter": "python",
   "pygments_lexer": "ipython3",
   "version": "3.9.7"
  }
 },
 "nbformat": 4,
 "nbformat_minor": 4
}
